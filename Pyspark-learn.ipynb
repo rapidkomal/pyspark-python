{
 "cells": [
  {
   "cell_type": "code",
   "execution_count": 80,
   "id": "90fa5d01",
   "metadata": {},
   "outputs": [
    {
     "name": "stdout",
     "output_type": "stream",
     "text": [
      "Requirement already satisfied: findspark in ./opt/anaconda3/envs/py310/lib/python3.10/site-packages (2.0.1)\r\n"
     ]
    }
   ],
   "source": [
    "!pip install findspark"
   ]
  },
  {
   "cell_type": "code",
   "execution_count": 1,
   "id": "08fd0b1d",
   "metadata": {},
   "outputs": [],
   "source": [
    "import pyspark"
   ]
  },
  {
   "cell_type": "code",
   "execution_count": 2,
   "id": "de628dfe",
   "metadata": {},
   "outputs": [
    {
     "name": "stderr",
     "output_type": "stream",
     "text": [
      "Setting default log level to \"WARN\".\n",
      "To adjust logging level use sc.setLogLevel(newLevel). For SparkR, use setLogLevel(newLevel).\n"
     ]
    },
    {
     "name": "stdout",
     "output_type": "stream",
     "text": [
      "23/04/13 16:33:01 WARN NativeCodeLoader: Unable to load native-hadoop library for your platform... using builtin-java classes where applicable\n"
     ]
    }
   ],
   "source": [
    "from pyspark.sql import SparkSession\n",
    "\n",
    "spark = SparkSession.builder.appName(\"MyApp\").getOrCreate()\n",
    "\n",
    "# Now you can use Spark to process data\n"
   ]
  },
  {
   "cell_type": "code",
   "execution_count": 4,
   "id": "26f94153",
   "metadata": {},
   "outputs": [
    {
     "data": {
      "text/html": [
       "\n",
       "            <div>\n",
       "                <p><b>SparkSession - in-memory</b></p>\n",
       "                \n",
       "        <div>\n",
       "            <p><b>SparkContext</b></p>\n",
       "\n",
       "            <p><a href=\"http://192.168.1.33:4040\">Spark UI</a></p>\n",
       "\n",
       "            <dl>\n",
       "              <dt>Version</dt>\n",
       "                <dd><code>v3.3.2</code></dd>\n",
       "              <dt>Master</dt>\n",
       "                <dd><code>local[*]</code></dd>\n",
       "              <dt>AppName</dt>\n",
       "                <dd><code>MyApp</code></dd>\n",
       "            </dl>\n",
       "        </div>\n",
       "        \n",
       "            </div>\n",
       "        "
      ],
      "text/plain": [
       "<pyspark.sql.session.SparkSession at 0x7f81c0e77df0>"
      ]
     },
     "execution_count": 4,
     "metadata": {},
     "output_type": "execute_result"
    }
   ],
   "source": [
    "spark"
   ]
  },
  {
   "cell_type": "code",
   "execution_count": 15,
   "id": "0f89723d",
   "metadata": {},
   "outputs": [],
   "source": [
    "# df = spark.read.csv(\"/Users/komal/Desktop/titanic_train.csv)\n",
    "df = spark.read.csv(\"/Users/komal/Desktop/titanic_train.csv\")                  "
   ]
  },
  {
   "cell_type": "code",
   "execution_count": 17,
   "id": "3c6b6aab",
   "metadata": {},
   "outputs": [
    {
     "data": {
      "text/plain": [
       "DataFrame[_c0: string, _c1: string, _c2: string, _c3: string, _c4: string, _c5: string, _c6: string, _c7: string, _c8: string, _c9: string, _c10: string, _c11: string, _c12: string, _c13: string, _c14: string]"
      ]
     },
     "execution_count": 17,
     "metadata": {},
     "output_type": "execute_result"
    }
   ],
   "source": [
    "# it show type of all columns like  type() does in pandas\n",
    "df"
   ]
  },
  {
   "cell_type": "code",
   "execution_count": 18,
   "id": "fb210f0a",
   "metadata": {},
   "outputs": [
    {
     "name": "stdout",
     "output_type": "stream",
     "text": [
      "+------------+------+--------------------+------+----+-----+-----+---------+-------+-----+--------+----+-----+--------------------+--------+\n",
      "|         _c0|   _c1|                 _c2|   _c3| _c4|  _c5|  _c6|      _c7|    _c8|  _c9|    _c10|_c11| _c12|                _c13|    _c14|\n",
      "+------------+------+--------------------+------+----+-----+-----+---------+-------+-----+--------+----+-----+--------------------+--------+\n",
      "|passenger_id|pclass|                name|   sex| age|sibsp|parch|   ticket|   fare|cabin|embarked|boat| body|           home.dest|survived|\n",
      "|        1216|     3|  Smyth, Miss. Julia|female|null|    0|    0|   335432| 7.7333| null|       Q|  13| null|                null|       1|\n",
      "|         699|     3|     Cacic, Mr. Luka|  male|38.0|    0|    0|   315089| 8.6625| null|       S|null| null|             Croatia|       0|\n",
      "|        1267|     3|Van Impe, Mrs. Je...|female|30.0|    1|    1|   345773|  24.15| null|       S|null| null|                null|       0|\n",
      "|         449|     2|Hocking, Mrs. Eli...|female|54.0|    1|    3|    29105|   23.0| null|       S|   4| null|Cornwall / Akron, OH|       1|\n",
      "|         576|     2|     Veal, Mr. James|  male|40.0|    0|    0|    28221|   13.0| null|       S|null| null|Barre, Co Washing...|       0|\n",
      "|        1083|     3|Olsen, Mr. Henry ...|  male|28.0|    0|    0|   C 4001| 22.525| null|       S|null|173.0|                null|       0|\n",
      "|         898|     3|Johnson, Mr. Will...|  male|19.0|    0|    0|     LINE|    0.0| null|       S|null| null|                null|       0|\n",
      "|         560|     2|Sinkkonen, Miss. ...|female|30.0|    0|    0|   250648|   13.0| null|       S|  10| null|Finland / Washing...|       1|\n",
      "|        1079|     3|  Ohman, Miss. Velin|female|22.0|    0|    0|   347085|  7.775| null|       S|   C| null|                null|       1|\n",
      "|         908|     3|Jussila, Miss. Ma...|female|21.0|    1|    0|     4137|  9.825| null|       S|null| null|                null|       0|\n",
      "|         313|     1|Widener, Mr. Harr...|  male|27.0|    0|    2|   113503|  211.5|  C82|       C|null| null|     Elkins Park, PA|       0|\n",
      "|          43|     1|Bucknell, Mrs. Wi...|female|60.0|    0|    0|    11813|76.2917|  D15|       C|   8| null|    Philadelphia, PA|       1|\n",
      "|         233|     1|Potter, Mrs. Thom...|female|56.0|    0|    1|    11767|83.1583|  C50|       C|   7| null|Mt Airy, Philadel...|       1|\n",
      "|         446|     2|\"Hocking, Miss. E...|female|20.0|    2|    1|    29105|   23.0| null|       S|   4| null|Cornwall / Akron, OH|       1|\n",
      "|         602|     3|Abbott, Mr. Rossm...|  male|16.0|    1|    1|C.A. 2673|  20.25| null|       S|null|190.0| East Providence, RI|       0|\n",
      "|         884|     3|Jensen, Mr. Niels...|  male|48.0|    0|    0|   350047| 7.8542| null|       S|null| null|                null|       0|\n",
      "|         497|     2|Maybery, Mr. Fran...|  male|40.0|    0|    0|   239059|   16.0| null|       S|null| null|Weston-Super-Mare...|       0|\n",
      "|        1003|     3|  McCoy, Mr. Bernard|  male|null|    2|    0|   367226|  23.25| null|       Q|  16| null|                null|       1|\n",
      "|          36|     1|Bowerman, Miss. E...|female|22.0|    0|    1|   113505|   55.0|  E33|       S|   6| null|St Leonards-on-Se...|       1|\n",
      "+------------+------+--------------------+------+----+-----+-----+---------+-------+-----+--------+----+-----+--------------------+--------+\n",
      "only showing top 20 rows\n",
      "\n"
     ]
    }
   ],
   "source": [
    "#show() does same like info()\n",
    "df.show()"
   ]
  },
  {
   "cell_type": "code",
   "execution_count": 25,
   "id": "56dc32f2",
   "metadata": {},
   "outputs": [
    {
     "name": "stdout",
     "output_type": "stream",
     "text": [
      "+------------+------+--------------------+------+----+-----+-----+---------+-------+-----+--------+----+-----+--------------------+--------+\n",
      "|passenger_id|pclass|                name|   sex| age|sibsp|parch|   ticket|   fare|cabin|embarked|boat| body|           home.dest|survived|\n",
      "+------------+------+--------------------+------+----+-----+-----+---------+-------+-----+--------+----+-----+--------------------+--------+\n",
      "|        1216|     3|  Smyth, Miss. Julia|female|null|    0|    0|   335432| 7.7333| null|       Q|  13| null|                null|       1|\n",
      "|         699|     3|     Cacic, Mr. Luka|  male|38.0|    0|    0|   315089| 8.6625| null|       S|null| null|             Croatia|       0|\n",
      "|        1267|     3|Van Impe, Mrs. Je...|female|30.0|    1|    1|   345773|  24.15| null|       S|null| null|                null|       0|\n",
      "|         449|     2|Hocking, Mrs. Eli...|female|54.0|    1|    3|    29105|   23.0| null|       S|   4| null|Cornwall / Akron, OH|       1|\n",
      "|         576|     2|     Veal, Mr. James|  male|40.0|    0|    0|    28221|   13.0| null|       S|null| null|Barre, Co Washing...|       0|\n",
      "|        1083|     3|Olsen, Mr. Henry ...|  male|28.0|    0|    0|   C 4001| 22.525| null|       S|null|173.0|                null|       0|\n",
      "|         898|     3|Johnson, Mr. Will...|  male|19.0|    0|    0|     LINE|    0.0| null|       S|null| null|                null|       0|\n",
      "|         560|     2|Sinkkonen, Miss. ...|female|30.0|    0|    0|   250648|   13.0| null|       S|  10| null|Finland / Washing...|       1|\n",
      "|        1079|     3|  Ohman, Miss. Velin|female|22.0|    0|    0|   347085|  7.775| null|       S|   C| null|                null|       1|\n",
      "|         908|     3|Jussila, Miss. Ma...|female|21.0|    1|    0|     4137|  9.825| null|       S|null| null|                null|       0|\n",
      "|         313|     1|Widener, Mr. Harr...|  male|27.0|    0|    2|   113503|  211.5|  C82|       C|null| null|     Elkins Park, PA|       0|\n",
      "|          43|     1|Bucknell, Mrs. Wi...|female|60.0|    0|    0|    11813|76.2917|  D15|       C|   8| null|    Philadelphia, PA|       1|\n",
      "|         233|     1|Potter, Mrs. Thom...|female|56.0|    0|    1|    11767|83.1583|  C50|       C|   7| null|Mt Airy, Philadel...|       1|\n",
      "|         446|     2|\"Hocking, Miss. E...|female|20.0|    2|    1|    29105|   23.0| null|       S|   4| null|Cornwall / Akron, OH|       1|\n",
      "|         602|     3|Abbott, Mr. Rossm...|  male|16.0|    1|    1|C.A. 2673|  20.25| null|       S|null|190.0| East Providence, RI|       0|\n",
      "|         884|     3|Jensen, Mr. Niels...|  male|48.0|    0|    0|   350047| 7.8542| null|       S|null| null|                null|       0|\n",
      "|         497|     2|Maybery, Mr. Fran...|  male|40.0|    0|    0|   239059|   16.0| null|       S|null| null|Weston-Super-Mare...|       0|\n",
      "|        1003|     3|  McCoy, Mr. Bernard|  male|null|    2|    0|   367226|  23.25| null|       Q|  16| null|                null|       1|\n",
      "|          36|     1|Bowerman, Miss. E...|female|22.0|    0|    1|   113505|   55.0|  E33|       S|   6| null|St Leonards-on-Se...|       1|\n",
      "|        1088|     3|Olsson, Mr. Oscar...|  male|32.0|    0|    0|   347079|  7.775| null|       S|   A| null|                null|       1|\n",
      "+------------+------+--------------------+------+----+-----+-----+---------+-------+-----+--------+----+-----+--------------------+--------+\n",
      "only showing top 20 rows\n",
      "\n"
     ]
    }
   ],
   "source": [
    "# want to check data with header\n",
    "df =spark.read.option('header', 'true').csv(\"/Users/komal/Desktop/titanic_train.csv\")\n",
    "spark.read.option('header', 'true').csv(\"/Users/komal/Desktop/titanic_train.csv\").show()"
   ]
  },
  {
   "cell_type": "code",
   "execution_count": 19,
   "id": "9f2ecc6b",
   "metadata": {},
   "outputs": [
    {
     "data": {
      "text/plain": [
       "pyspark.sql.dataframe.DataFrame"
      ]
     },
     "execution_count": 19,
     "metadata": {},
     "output_type": "execute_result"
    }
   ],
   "source": [
    "type(df)"
   ]
  },
  {
   "cell_type": "code",
   "execution_count": 20,
   "id": "eb13e51c",
   "metadata": {},
   "outputs": [
    {
     "data": {
      "text/plain": [
       "[Row(_c0='passenger_id', _c1='pclass', _c2='name', _c3='sex', _c4='age', _c5='sibsp', _c6='parch', _c7='ticket', _c8='fare', _c9='cabin', _c10='embarked', _c11='boat', _c12='body', _c13='home.dest', _c14='survived'),\n",
       " Row(_c0='1216', _c1='3', _c2='Smyth, Miss. Julia', _c3='female', _c4=None, _c5='0', _c6='0', _c7='335432', _c8='7.7333', _c9=None, _c10='Q', _c11='13', _c12=None, _c13=None, _c14='1'),\n",
       " Row(_c0='699', _c1='3', _c2='Cacic, Mr. Luka', _c3='male', _c4='38.0', _c5='0', _c6='0', _c7='315089', _c8='8.6625', _c9=None, _c10='S', _c11=None, _c12=None, _c13='Croatia', _c14='0')]"
      ]
     },
     "execution_count": 20,
     "metadata": {},
     "output_type": "execute_result"
    }
   ],
   "source": [
    "df.head(3)"
   ]
  },
  {
   "cell_type": "code",
   "execution_count": 21,
   "id": "9fdde948",
   "metadata": {},
   "outputs": [
    {
     "name": "stdout",
     "output_type": "stream",
     "text": [
      "root\n",
      " |-- _c0: string (nullable = true)\n",
      " |-- _c1: string (nullable = true)\n",
      " |-- _c2: string (nullable = true)\n",
      " |-- _c3: string (nullable = true)\n",
      " |-- _c4: string (nullable = true)\n",
      " |-- _c5: string (nullable = true)\n",
      " |-- _c6: string (nullable = true)\n",
      " |-- _c7: string (nullable = true)\n",
      " |-- _c8: string (nullable = true)\n",
      " |-- _c9: string (nullable = true)\n",
      " |-- _c10: string (nullable = true)\n",
      " |-- _c11: string (nullable = true)\n",
      " |-- _c12: string (nullable = true)\n",
      " |-- _c13: string (nullable = true)\n",
      " |-- _c14: string (nullable = true)\n",
      "\n"
     ]
    }
   ],
   "source": [
    "# it will show all datatype of columns simillar to info()\n",
    "df.printSchema()"
   ]
  },
  {
   "cell_type": "code",
   "execution_count": 25,
   "id": "1d3a5a37",
   "metadata": {},
   "outputs": [],
   "source": [
    "df = spark.read.option('header', 'true').csv(\"/Users/komal/Desktop/titanic_train.csv\",inferSchema=True)"
   ]
  },
  {
   "cell_type": "code",
   "execution_count": 26,
   "id": "4314a92d",
   "metadata": {},
   "outputs": [
    {
     "data": {
      "text/plain": [
       "['passenger_id',\n",
       " 'pclass',\n",
       " 'name',\n",
       " 'sex',\n",
       " 'age',\n",
       " 'sibsp',\n",
       " 'parch',\n",
       " 'ticket',\n",
       " 'fare',\n",
       " 'cabin',\n",
       " 'embarked',\n",
       " 'boat',\n",
       " 'body',\n",
       " 'home.dest',\n",
       " 'survived']"
      ]
     },
     "execution_count": 26,
     "metadata": {},
     "output_type": "execute_result"
    }
   ],
   "source": [
    "df.columns"
   ]
  },
  {
   "cell_type": "code",
   "execution_count": 27,
   "id": "32b8e770",
   "metadata": {},
   "outputs": [
    {
     "name": "stdout",
     "output_type": "stream",
     "text": [
      "+--------------------+----+\n",
      "|                name| age|\n",
      "+--------------------+----+\n",
      "|  Smyth, Miss. Julia|null|\n",
      "|     Cacic, Mr. Luka|38.0|\n",
      "|Van Impe, Mrs. Je...|30.0|\n",
      "|Hocking, Mrs. Eli...|54.0|\n",
      "|     Veal, Mr. James|40.0|\n",
      "|Olsen, Mr. Henry ...|28.0|\n",
      "|Johnson, Mr. Will...|19.0|\n",
      "|Sinkkonen, Miss. ...|30.0|\n",
      "|  Ohman, Miss. Velin|22.0|\n",
      "|Jussila, Miss. Ma...|21.0|\n",
      "|Widener, Mr. Harr...|27.0|\n",
      "|Bucknell, Mrs. Wi...|60.0|\n",
      "|Potter, Mrs. Thom...|56.0|\n",
      "|\"Hocking, Miss. E...|20.0|\n",
      "|Abbott, Mr. Rossm...|16.0|\n",
      "|Jensen, Mr. Niels...|48.0|\n",
      "|Maybery, Mr. Fran...|40.0|\n",
      "|  McCoy, Mr. Bernard|null|\n",
      "|Bowerman, Miss. E...|22.0|\n",
      "|Olsson, Mr. Oscar...|32.0|\n",
      "+--------------------+----+\n",
      "only showing top 20 rows\n",
      "\n"
     ]
    }
   ],
   "source": [
    "#to show data using column name\n",
    "df.select(['name', 'age']).show()"
   ]
  },
  {
   "cell_type": "code",
   "execution_count": 28,
   "id": "339229a8",
   "metadata": {},
   "outputs": [
    {
     "name": "stdout",
     "output_type": "stream",
     "text": [
      "+-------+------------------+\n",
      "|summary|               age|\n",
      "+-------+------------------+\n",
      "|  count|               676|\n",
      "|   mean|29.519847189349115|\n",
      "| stddev|14.562243434125543|\n",
      "|    min|            0.1667|\n",
      "|    max|              80.0|\n",
      "+-------+------------------+\n",
      "\n"
     ]
    }
   ],
   "source": [
    "# use describe() \n",
    "# df.describe().show()\n",
    "df.select(['age']).describe().show()"
   ]
  },
  {
   "cell_type": "code",
   "execution_count": null,
   "id": "f5fca939",
   "metadata": {},
   "outputs": [],
   "source": [
    "#drop columns"
   ]
  },
  {
   "cell_type": "code",
   "execution_count": 31,
   "id": "8e66c287",
   "metadata": {},
   "outputs": [],
   "source": [
    "df = df.drop('passenger_id', 'ticket', 'home.dest' ,'body', 'boat', 'cabin')"
   ]
  },
  {
   "cell_type": "code",
   "execution_count": 32,
   "id": "dcc46579",
   "metadata": {},
   "outputs": [
    {
     "name": "stdout",
     "output_type": "stream",
     "text": [
      "+------+--------------------+------+----+-----+-----+-------+--------+--------+\n",
      "|pclass|                name|   sex| age|sibsp|parch|   fare|embarked|survived|\n",
      "+------+--------------------+------+----+-----+-----+-------+--------+--------+\n",
      "|     3|  Smyth, Miss. Julia|female|null|    0|    0| 7.7333|       Q|       1|\n",
      "|     3|     Cacic, Mr. Luka|  male|38.0|    0|    0| 8.6625|       S|       0|\n",
      "|     3|Van Impe, Mrs. Je...|female|30.0|    1|    1|  24.15|       S|       0|\n",
      "|     2|Hocking, Mrs. Eli...|female|54.0|    1|    3|   23.0|       S|       1|\n",
      "|     2|     Veal, Mr. James|  male|40.0|    0|    0|   13.0|       S|       0|\n",
      "|     3|Olsen, Mr. Henry ...|  male|28.0|    0|    0| 22.525|       S|       0|\n",
      "|     3|Johnson, Mr. Will...|  male|19.0|    0|    0|    0.0|       S|       0|\n",
      "|     2|Sinkkonen, Miss. ...|female|30.0|    0|    0|   13.0|       S|       1|\n",
      "|     3|  Ohman, Miss. Velin|female|22.0|    0|    0|  7.775|       S|       1|\n",
      "|     3|Jussila, Miss. Ma...|female|21.0|    1|    0|  9.825|       S|       0|\n",
      "|     1|Widener, Mr. Harr...|  male|27.0|    0|    2|  211.5|       C|       0|\n",
      "|     1|Bucknell, Mrs. Wi...|female|60.0|    0|    0|76.2917|       C|       1|\n",
      "|     1|Potter, Mrs. Thom...|female|56.0|    0|    1|83.1583|       C|       1|\n",
      "|     2|\"Hocking, Miss. E...|female|20.0|    2|    1|   23.0|       S|       1|\n",
      "|     3|Abbott, Mr. Rossm...|  male|16.0|    1|    1|  20.25|       S|       0|\n",
      "|     3|Jensen, Mr. Niels...|  male|48.0|    0|    0| 7.8542|       S|       0|\n",
      "|     2|Maybery, Mr. Fran...|  male|40.0|    0|    0|   16.0|       S|       0|\n",
      "|     3|  McCoy, Mr. Bernard|  male|null|    2|    0|  23.25|       Q|       1|\n",
      "|     1|Bowerman, Miss. E...|female|22.0|    0|    1|   55.0|       S|       1|\n",
      "|     3|Olsson, Mr. Oscar...|  male|32.0|    0|    0|  7.775|       S|       1|\n",
      "+------+--------------------+------+----+-----+-----+-------+--------+--------+\n",
      "only showing top 20 rows\n",
      "\n"
     ]
    }
   ],
   "source": [
    "df.show()"
   ]
  },
  {
   "cell_type": "code",
   "execution_count": 72,
   "id": "726a6089",
   "metadata": {},
   "outputs": [
    {
     "ename": "NameError",
     "evalue": "name 'age' is not defined",
     "output_type": "error",
     "traceback": [
      "\u001b[0;31m---------------------------------------------------------------------------\u001b[0m",
      "\u001b[0;31mNameError\u001b[0m                                 Traceback (most recent call last)",
      "Cell \u001b[0;32mIn[72], line 2\u001b[0m\n\u001b[1;32m      1\u001b[0m \u001b[38;5;66;03m# check if there are any null values in the sum of each column\u001b[39;00m\n\u001b[0;32m----> 2\u001b[0m null_sum \u001b[38;5;241m=\u001b[39m df\u001b[38;5;241m.\u001b[39magg(\u001b[38;5;241m*\u001b[39m[\u001b[38;5;28msum\u001b[39m(age) \u001b[38;5;28;01mfor\u001b[39;00m c \u001b[38;5;129;01min\u001b[39;00m df\u001b[38;5;241m.\u001b[39mcolumns])\u001b[38;5;241m.\u001b[39misNull()\u001b[38;5;241m.\u001b[39many()\n\u001b[1;32m      3\u001b[0m \u001b[38;5;28mprint\u001b[39m(null_sum)\n",
      "Cell \u001b[0;32mIn[72], line 2\u001b[0m, in \u001b[0;36m<listcomp>\u001b[0;34m(.0)\u001b[0m\n\u001b[1;32m      1\u001b[0m \u001b[38;5;66;03m# check if there are any null values in the sum of each column\u001b[39;00m\n\u001b[0;32m----> 2\u001b[0m null_sum \u001b[38;5;241m=\u001b[39m df\u001b[38;5;241m.\u001b[39magg(\u001b[38;5;241m*\u001b[39m[\u001b[38;5;28msum\u001b[39m(\u001b[43mage\u001b[49m) \u001b[38;5;28;01mfor\u001b[39;00m c \u001b[38;5;129;01min\u001b[39;00m df\u001b[38;5;241m.\u001b[39mcolumns])\u001b[38;5;241m.\u001b[39misNull()\u001b[38;5;241m.\u001b[39many()\n\u001b[1;32m      3\u001b[0m \u001b[38;5;28mprint\u001b[39m(null_sum)\n",
      "\u001b[0;31mNameError\u001b[0m: name 'age' is not defined"
     ]
    }
   ],
   "source": [
    "# check if there are any null values in the sum of each column\n",
    "null_sum = df.agg(*[sum('age') for c in df.columns]).isNull().any()\n",
    "print(null_sum)"
   ]
  },
  {
   "cell_type": "code",
   "execution_count": null,
   "id": "3bb0b347",
   "metadata": {},
   "outputs": [],
   "source": []
  },
  {
   "cell_type": "code",
   "execution_count": 40,
   "id": "b1c4db5c",
   "metadata": {},
   "outputs": [],
   "source": [
    "#adding columns"
   ]
  },
  {
   "cell_type": "code",
   "execution_count": 33,
   "id": "4d98fce9",
   "metadata": {},
   "outputs": [
    {
     "name": "stdout",
     "output_type": "stream",
     "text": [
      "+------+--------------------+------+----+-----+-----+-------+--------+--------+-----------------+\n",
      "|pclass|                name|   sex| age|sibsp|parch|   fare|embarked|survived|Age after 3 years|\n",
      "+------+--------------------+------+----+-----+-----+-------+--------+--------+-----------------+\n",
      "|     3|  Smyth, Miss. Julia|female|null|    0|    0| 7.7333|       Q|       1|             null|\n",
      "|     3|     Cacic, Mr. Luka|  male|38.0|    0|    0| 8.6625|       S|       0|             40.0|\n",
      "|     3|Van Impe, Mrs. Je...|female|30.0|    1|    1|  24.15|       S|       0|             32.0|\n",
      "|     2|Hocking, Mrs. Eli...|female|54.0|    1|    3|   23.0|       S|       1|             56.0|\n",
      "|     2|     Veal, Mr. James|  male|40.0|    0|    0|   13.0|       S|       0|             42.0|\n",
      "|     3|Olsen, Mr. Henry ...|  male|28.0|    0|    0| 22.525|       S|       0|             30.0|\n",
      "|     3|Johnson, Mr. Will...|  male|19.0|    0|    0|    0.0|       S|       0|             21.0|\n",
      "|     2|Sinkkonen, Miss. ...|female|30.0|    0|    0|   13.0|       S|       1|             32.0|\n",
      "|     3|  Ohman, Miss. Velin|female|22.0|    0|    0|  7.775|       S|       1|             24.0|\n",
      "|     3|Jussila, Miss. Ma...|female|21.0|    1|    0|  9.825|       S|       0|             23.0|\n",
      "|     1|Widener, Mr. Harr...|  male|27.0|    0|    2|  211.5|       C|       0|             29.0|\n",
      "|     1|Bucknell, Mrs. Wi...|female|60.0|    0|    0|76.2917|       C|       1|             62.0|\n",
      "|     1|Potter, Mrs. Thom...|female|56.0|    0|    1|83.1583|       C|       1|             58.0|\n",
      "|     2|\"Hocking, Miss. E...|female|20.0|    2|    1|   23.0|       S|       1|             22.0|\n",
      "|     3|Abbott, Mr. Rossm...|  male|16.0|    1|    1|  20.25|       S|       0|             18.0|\n",
      "|     3|Jensen, Mr. Niels...|  male|48.0|    0|    0| 7.8542|       S|       0|             50.0|\n",
      "|     2|Maybery, Mr. Fran...|  male|40.0|    0|    0|   16.0|       S|       0|             42.0|\n",
      "|     3|  McCoy, Mr. Bernard|  male|null|    2|    0|  23.25|       Q|       1|             null|\n",
      "|     1|Bowerman, Miss. E...|female|22.0|    0|    1|   55.0|       S|       1|             24.0|\n",
      "|     3|Olsson, Mr. Oscar...|  male|32.0|    0|    0|  7.775|       S|       1|             34.0|\n",
      "+------+--------------------+------+----+-----+-----+-------+--------+--------+-----------------+\n",
      "only showing top 20 rows\n",
      "\n"
     ]
    }
   ],
   "source": [
    "# df = df.withColumn('Age after 3 year', df['age']+2).show()\n",
    "from pyspark.sql.functions import when, isnull\n",
    "\n",
    "df = df.withColumn('Age after 3 years', when(isnull(df['age']), None).otherwise(df['age']+2))\n",
    "df.show()\n"
   ]
  },
  {
   "cell_type": "code",
   "execution_count": 34,
   "id": "5f3c0cdc",
   "metadata": {},
   "outputs": [
    {
     "data": {
      "text/plain": [
       "DataFrame[pclass: int, name: string, sex: string, age: double, sibsp: int, parch: int, fare: double, embarked: string, survived: int, Age after 3 years: double]"
      ]
     },
     "execution_count": 34,
     "metadata": {},
     "output_type": "execute_result"
    }
   ],
   "source": [
    "df"
   ]
  },
  {
   "cell_type": "code",
   "execution_count": 35,
   "id": "1d1f293b",
   "metadata": {},
   "outputs": [
    {
     "data": {
      "text/plain": [
       "DataFrame[pclass: int, names: string, sex: string, age: double, sibsp: int, parch: int, fare: double, embarked: string, survived: int, Age after 3 years: double]"
      ]
     },
     "execution_count": 35,
     "metadata": {},
     "output_type": "execute_result"
    }
   ],
   "source": [
    "# Rename the column name\n",
    "df.withColumnRenamed('name', 'names')"
   ]
  },
  {
   "cell_type": "code",
   "execution_count": 40,
   "id": "07de0a31",
   "metadata": {},
   "outputs": [
    {
     "name": "stdout",
     "output_type": "stream",
     "text": [
      "+------+--------------------+------+----+-----+-----+-------+--------+--------+-----------------+\n",
      "|pclass|                name|   sex| age|sibsp|parch|   fare|embarked|survived|Age after 3 years|\n",
      "+------+--------------------+------+----+-----+-----+-------+--------+--------+-----------------+\n",
      "|     3|     Cacic, Mr. Luka|  male|38.0|    0|    0| 8.6625|       S|       0|             40.0|\n",
      "|     3|Van Impe, Mrs. Je...|female|30.0|    1|    1|  24.15|       S|       0|             32.0|\n",
      "|     2|Hocking, Mrs. Eli...|female|54.0|    1|    3|   23.0|       S|       1|             56.0|\n",
      "|     2|     Veal, Mr. James|  male|40.0|    0|    0|   13.0|       S|       0|             42.0|\n",
      "|     3|Olsen, Mr. Henry ...|  male|28.0|    0|    0| 22.525|       S|       0|             30.0|\n",
      "|     3|Johnson, Mr. Will...|  male|19.0|    0|    0|    0.0|       S|       0|             21.0|\n",
      "|     2|Sinkkonen, Miss. ...|female|30.0|    0|    0|   13.0|       S|       1|             32.0|\n",
      "|     3|  Ohman, Miss. Velin|female|22.0|    0|    0|  7.775|       S|       1|             24.0|\n",
      "|     3|Jussila, Miss. Ma...|female|21.0|    1|    0|  9.825|       S|       0|             23.0|\n",
      "|     1|Widener, Mr. Harr...|  male|27.0|    0|    2|  211.5|       C|       0|             29.0|\n",
      "|     1|Bucknell, Mrs. Wi...|female|60.0|    0|    0|76.2917|       C|       1|             62.0|\n",
      "|     1|Potter, Mrs. Thom...|female|56.0|    0|    1|83.1583|       C|       1|             58.0|\n",
      "|     2|\"Hocking, Miss. E...|female|20.0|    2|    1|   23.0|       S|       1|             22.0|\n",
      "|     3|Abbott, Mr. Rossm...|  male|16.0|    1|    1|  20.25|       S|       0|             18.0|\n",
      "|     3|Jensen, Mr. Niels...|  male|48.0|    0|    0| 7.8542|       S|       0|             50.0|\n",
      "|     2|Maybery, Mr. Fran...|  male|40.0|    0|    0|   16.0|       S|       0|             42.0|\n",
      "|     1|Bowerman, Miss. E...|female|22.0|    0|    1|   55.0|       S|       1|             24.0|\n",
      "|     3|Olsson, Mr. Oscar...|  male|32.0|    0|    0|  7.775|       S|       1|             34.0|\n",
      "|     3|   Lulic, Mr. Nikola|  male|27.0|    0|    0| 8.6625|       S|       1|             29.0|\n",
      "|     2|  Herman, Miss. Kate|female|24.0|    1|    2|   65.0|       S|       1|             26.0|\n",
      "+------+--------------------+------+----+-----+-----+-------+--------+--------+-----------------+\n",
      "only showing top 20 rows\n",
      "\n"
     ]
    }
   ],
   "source": [
    "# this is drop all null rows from dataset\n",
    "df.na.drop().show()"
   ]
  },
  {
   "cell_type": "code",
   "execution_count": 41,
   "id": "e1af4675",
   "metadata": {},
   "outputs": [
    {
     "name": "stdout",
     "output_type": "stream",
     "text": [
      "+------+--------------------+------+----+-----+-----+-------+--------+--------+-----------------+\n",
      "|pclass|                name|   sex| age|sibsp|parch|   fare|embarked|survived|Age after 3 years|\n",
      "+------+--------------------+------+----+-----+-----+-------+--------+--------+-----------------+\n",
      "|     3|  Smyth, Miss. Julia|female|null|    0|    0| 7.7333|       Q|       1|             null|\n",
      "|     3|     Cacic, Mr. Luka|  male|38.0|    0|    0| 8.6625|       S|       0|             40.0|\n",
      "|     3|Van Impe, Mrs. Je...|female|30.0|    1|    1|  24.15|       S|       0|             32.0|\n",
      "|     2|Hocking, Mrs. Eli...|female|54.0|    1|    3|   23.0|       S|       1|             56.0|\n",
      "|     2|     Veal, Mr. James|  male|40.0|    0|    0|   13.0|       S|       0|             42.0|\n",
      "|     3|Olsen, Mr. Henry ...|  male|28.0|    0|    0| 22.525|       S|       0|             30.0|\n",
      "|     3|Johnson, Mr. Will...|  male|19.0|    0|    0|    0.0|       S|       0|             21.0|\n",
      "|     2|Sinkkonen, Miss. ...|female|30.0|    0|    0|   13.0|       S|       1|             32.0|\n",
      "|     3|  Ohman, Miss. Velin|female|22.0|    0|    0|  7.775|       S|       1|             24.0|\n",
      "|     3|Jussila, Miss. Ma...|female|21.0|    1|    0|  9.825|       S|       0|             23.0|\n",
      "|     1|Widener, Mr. Harr...|  male|27.0|    0|    2|  211.5|       C|       0|             29.0|\n",
      "|     1|Bucknell, Mrs. Wi...|female|60.0|    0|    0|76.2917|       C|       1|             62.0|\n",
      "|     1|Potter, Mrs. Thom...|female|56.0|    0|    1|83.1583|       C|       1|             58.0|\n",
      "|     2|\"Hocking, Miss. E...|female|20.0|    2|    1|   23.0|       S|       1|             22.0|\n",
      "|     3|Abbott, Mr. Rossm...|  male|16.0|    1|    1|  20.25|       S|       0|             18.0|\n",
      "|     3|Jensen, Mr. Niels...|  male|48.0|    0|    0| 7.8542|       S|       0|             50.0|\n",
      "|     2|Maybery, Mr. Fran...|  male|40.0|    0|    0|   16.0|       S|       0|             42.0|\n",
      "|     3|  McCoy, Mr. Bernard|  male|null|    2|    0|  23.25|       Q|       1|             null|\n",
      "|     1|Bowerman, Miss. E...|female|22.0|    0|    1|   55.0|       S|       1|             24.0|\n",
      "|     3|Olsson, Mr. Oscar...|  male|32.0|    0|    0|  7.775|       S|       1|             34.0|\n",
      "+------+--------------------+------+----+-----+-----+-------+--------+--------+-----------------+\n",
      "only showing top 20 rows\n",
      "\n"
     ]
    }
   ],
   "source": [
    "# any = how > drop rows who contains null value in every columns\n",
    "df.na.drop(how=\"all\").show()\n",
    "# this will drop rows where its finded null value . it is default\n",
    "#df.na.drop(how=\"any\").show()"
   ]
  },
  {
   "cell_type": "code",
   "execution_count": 42,
   "id": "76f68282",
   "metadata": {},
   "outputs": [
    {
     "name": "stdout",
     "output_type": "stream",
     "text": [
      "+------+--------------------+------+----+-----+-----+-------+--------+--------+-----------------+\n",
      "|pclass|                name|   sex| age|sibsp|parch|   fare|embarked|survived|Age after 3 years|\n",
      "+------+--------------------+------+----+-----+-----+-------+--------+--------+-----------------+\n",
      "|     3|  Smyth, Miss. Julia|female|null|    0|    0| 7.7333|       Q|       1|             null|\n",
      "|     3|     Cacic, Mr. Luka|  male|38.0|    0|    0| 8.6625|       S|       0|             40.0|\n",
      "|     3|Van Impe, Mrs. Je...|female|30.0|    1|    1|  24.15|       S|       0|             32.0|\n",
      "|     2|Hocking, Mrs. Eli...|female|54.0|    1|    3|   23.0|       S|       1|             56.0|\n",
      "|     2|     Veal, Mr. James|  male|40.0|    0|    0|   13.0|       S|       0|             42.0|\n",
      "|     3|Olsen, Mr. Henry ...|  male|28.0|    0|    0| 22.525|       S|       0|             30.0|\n",
      "|     3|Johnson, Mr. Will...|  male|19.0|    0|    0|    0.0|       S|       0|             21.0|\n",
      "|     2|Sinkkonen, Miss. ...|female|30.0|    0|    0|   13.0|       S|       1|             32.0|\n",
      "|     3|  Ohman, Miss. Velin|female|22.0|    0|    0|  7.775|       S|       1|             24.0|\n",
      "|     3|Jussila, Miss. Ma...|female|21.0|    1|    0|  9.825|       S|       0|             23.0|\n",
      "|     1|Widener, Mr. Harr...|  male|27.0|    0|    2|  211.5|       C|       0|             29.0|\n",
      "|     1|Bucknell, Mrs. Wi...|female|60.0|    0|    0|76.2917|       C|       1|             62.0|\n",
      "|     1|Potter, Mrs. Thom...|female|56.0|    0|    1|83.1583|       C|       1|             58.0|\n",
      "|     2|\"Hocking, Miss. E...|female|20.0|    2|    1|   23.0|       S|       1|             22.0|\n",
      "|     3|Abbott, Mr. Rossm...|  male|16.0|    1|    1|  20.25|       S|       0|             18.0|\n",
      "|     3|Jensen, Mr. Niels...|  male|48.0|    0|    0| 7.8542|       S|       0|             50.0|\n",
      "|     2|Maybery, Mr. Fran...|  male|40.0|    0|    0|   16.0|       S|       0|             42.0|\n",
      "|     3|  McCoy, Mr. Bernard|  male|null|    2|    0|  23.25|       Q|       1|             null|\n",
      "|     1|Bowerman, Miss. E...|female|22.0|    0|    1|   55.0|       S|       1|             24.0|\n",
      "|     3|Olsson, Mr. Oscar...|  male|32.0|    0|    0|  7.775|       S|       1|             34.0|\n",
      "+------+--------------------+------+----+-----+-----+-------+--------+--------+-----------------+\n",
      "only showing top 20 rows\n",
      "\n"
     ]
    }
   ],
   "source": [
    "##Threshold -> if you set thresh=2 means rows should contains atleast 2 not null value.\n",
    "df.na.drop(how=\"any\", thresh=2).show()\n"
   ]
  },
  {
   "cell_type": "code",
   "execution_count": 43,
   "id": "3cb3ecca",
   "metadata": {},
   "outputs": [
    {
     "name": "stdout",
     "output_type": "stream",
     "text": [
      "+------+--------------------+------+----+-----+-----+-------+--------+--------+-----------------+\n",
      "|pclass|                name|   sex| age|sibsp|parch|   fare|embarked|survived|Age after 3 years|\n",
      "+------+--------------------+------+----+-----+-----+-------+--------+--------+-----------------+\n",
      "|     3|     Cacic, Mr. Luka|  male|38.0|    0|    0| 8.6625|       S|       0|             40.0|\n",
      "|     3|Van Impe, Mrs. Je...|female|30.0|    1|    1|  24.15|       S|       0|             32.0|\n",
      "|     2|Hocking, Mrs. Eli...|female|54.0|    1|    3|   23.0|       S|       1|             56.0|\n",
      "|     2|     Veal, Mr. James|  male|40.0|    0|    0|   13.0|       S|       0|             42.0|\n",
      "|     3|Olsen, Mr. Henry ...|  male|28.0|    0|    0| 22.525|       S|       0|             30.0|\n",
      "|     3|Johnson, Mr. Will...|  male|19.0|    0|    0|    0.0|       S|       0|             21.0|\n",
      "|     2|Sinkkonen, Miss. ...|female|30.0|    0|    0|   13.0|       S|       1|             32.0|\n",
      "|     3|  Ohman, Miss. Velin|female|22.0|    0|    0|  7.775|       S|       1|             24.0|\n",
      "|     3|Jussila, Miss. Ma...|female|21.0|    1|    0|  9.825|       S|       0|             23.0|\n",
      "|     1|Widener, Mr. Harr...|  male|27.0|    0|    2|  211.5|       C|       0|             29.0|\n",
      "|     1|Bucknell, Mrs. Wi...|female|60.0|    0|    0|76.2917|       C|       1|             62.0|\n",
      "|     1|Potter, Mrs. Thom...|female|56.0|    0|    1|83.1583|       C|       1|             58.0|\n",
      "|     2|\"Hocking, Miss. E...|female|20.0|    2|    1|   23.0|       S|       1|             22.0|\n",
      "|     3|Abbott, Mr. Rossm...|  male|16.0|    1|    1|  20.25|       S|       0|             18.0|\n",
      "|     3|Jensen, Mr. Niels...|  male|48.0|    0|    0| 7.8542|       S|       0|             50.0|\n",
      "|     2|Maybery, Mr. Fran...|  male|40.0|    0|    0|   16.0|       S|       0|             42.0|\n",
      "|     1|Bowerman, Miss. E...|female|22.0|    0|    1|   55.0|       S|       1|             24.0|\n",
      "|     3|Olsson, Mr. Oscar...|  male|32.0|    0|    0|  7.775|       S|       1|             34.0|\n",
      "|     3|   Lulic, Mr. Nikola|  male|27.0|    0|    0| 8.6625|       S|       1|             29.0|\n",
      "|     2|  Herman, Miss. Kate|female|24.0|    1|    2|   65.0|       S|       1|             26.0|\n",
      "+------+--------------------+------+----+-----+-----+-------+--------+--------+-----------------+\n",
      "only showing top 20 rows\n",
      "\n"
     ]
    }
   ],
   "source": [
    "##Subset -> use for specific column which contains null all those rows deleted\n",
    "df.na.drop(how=\"any\", subset=['age']).show()"
   ]
  },
  {
   "cell_type": "code",
   "execution_count": 54,
   "id": "a3c5a7cc",
   "metadata": {},
   "outputs": [
    {
     "name": "stdout",
     "output_type": "stream",
     "text": [
      "+------+--------------------+------+----+-----+-----+-------+--------+--------+-----------------+\n",
      "|pclass|                name|   sex| age|sibsp|parch|   fare|embarked|survived|Age after 3 years|\n",
      "+------+--------------------+------+----+-----+-----+-------+--------+--------+-----------------+\n",
      "|     3|  Smyth, Miss. Julia|female|null|    0|    0| 7.7333|       Q|       1|             null|\n",
      "|     3|     Cacic, Mr. Luka|  male|38.0|    0|    0| 8.6625|       S|       0|             40.0|\n",
      "|     3|Van Impe, Mrs. Je...|female|30.0|    1|    1|  24.15|       S|       0|             32.0|\n",
      "|     2|Hocking, Mrs. Eli...|female|54.0|    1|    3|   23.0|       S|       1|             56.0|\n",
      "|     2|     Veal, Mr. James|  male|40.0|    0|    0|   13.0|       S|       0|             42.0|\n",
      "|     3|Olsen, Mr. Henry ...|  male|28.0|    0|    0| 22.525|       S|       0|             30.0|\n",
      "|     3|Johnson, Mr. Will...|  male|19.0|    0|    0|    0.0|       S|       0|             21.0|\n",
      "|     2|Sinkkonen, Miss. ...|female|30.0|    0|    0|   13.0|       S|       1|             32.0|\n",
      "|     3|  Ohman, Miss. Velin|female|22.0|    0|    0|  7.775|       S|       1|             24.0|\n",
      "|     3|Jussila, Miss. Ma...|female|21.0|    1|    0|  9.825|       S|       0|             23.0|\n",
      "|     1|Widener, Mr. Harr...|  male|27.0|    0|    2|  211.5|       C|       0|             29.0|\n",
      "|     1|Bucknell, Mrs. Wi...|female|60.0|    0|    0|76.2917|       C|       1|             62.0|\n",
      "|     1|Potter, Mrs. Thom...|female|56.0|    0|    1|83.1583|       C|       1|             58.0|\n",
      "|     2|\"Hocking, Miss. E...|female|20.0|    2|    1|   23.0|       S|       1|             22.0|\n",
      "|     3|Abbott, Mr. Rossm...|  male|16.0|    1|    1|  20.25|       S|       0|             18.0|\n",
      "|     3|Jensen, Mr. Niels...|  male|48.0|    0|    0| 7.8542|       S|       0|             50.0|\n",
      "|     2|Maybery, Mr. Fran...|  male|40.0|    0|    0|   16.0|       S|       0|             42.0|\n",
      "|     3|  McCoy, Mr. Bernard|  male|null|    2|    0|  23.25|       Q|       1|             null|\n",
      "|     1|Bowerman, Miss. E...|female|22.0|    0|    1|   55.0|       S|       1|             24.0|\n",
      "|     3|Olsson, Mr. Oscar...|  male|32.0|    0|    0|  7.775|       S|       1|             34.0|\n",
      "+------+--------------------+------+----+-----+-----+-------+--------+--------+-----------------+\n",
      "only showing top 20 rows\n",
      "\n"
     ]
    }
   ],
   "source": [
    "## Filling Missing value\n",
    "df.na.fill(\"missing value\").show()\n",
    "# it will replace all null to \"missing value\""
   ]
  },
  {
   "cell_type": "code",
   "execution_count": 59,
   "id": "b9babb47",
   "metadata": {},
   "outputs": [
    {
     "name": "stdout",
     "output_type": "stream",
     "text": [
      "+------+--------------------+------+----+-----+-----+-------+--------+--------+-----------------+\n",
      "|pclass|                name|   sex| age|sibsp|parch|   fare|embarked|survived|Age after 3 years|\n",
      "+------+--------------------+------+----+-----+-----+-------+--------+--------+-----------------+\n",
      "|     3|  Smyth, Miss. Julia|female|null|    0|    0| 7.7333|       Q|       1|             null|\n",
      "|     3|     Cacic, Mr. Luka|  male|38.0|    0|    0| 8.6625|       S|       0|             40.0|\n",
      "|     3|Van Impe, Mrs. Je...|female|30.0|    1|    1|  24.15|       S|       0|             32.0|\n",
      "|     2|Hocking, Mrs. Eli...|female|54.0|    1|    3|   23.0|       S|       1|             56.0|\n",
      "|     2|     Veal, Mr. James|  male|40.0|    0|    0|   13.0|       S|       0|             42.0|\n",
      "|     3|Olsen, Mr. Henry ...|  male|28.0|    0|    0| 22.525|       S|       0|             30.0|\n",
      "|     3|Johnson, Mr. Will...|  male|19.0|    0|    0|    0.0|       S|       0|             21.0|\n",
      "|     2|Sinkkonen, Miss. ...|female|30.0|    0|    0|   13.0|       S|       1|             32.0|\n",
      "|     3|  Ohman, Miss. Velin|female|22.0|    0|    0|  7.775|       S|       1|             24.0|\n",
      "|     3|Jussila, Miss. Ma...|female|21.0|    1|    0|  9.825|       S|       0|             23.0|\n",
      "|     1|Widener, Mr. Harr...|  male|27.0|    0|    2|  211.5|       C|       0|             29.0|\n",
      "|     1|Bucknell, Mrs. Wi...|female|60.0|    0|    0|76.2917|       C|       1|             62.0|\n",
      "|     1|Potter, Mrs. Thom...|female|56.0|    0|    1|83.1583|       C|       1|             58.0|\n",
      "|     2|\"Hocking, Miss. E...|female|20.0|    2|    1|   23.0|       S|       1|             22.0|\n",
      "|     3|Abbott, Mr. Rossm...|  male|16.0|    1|    1|  20.25|       S|       0|             18.0|\n",
      "|     3|Jensen, Mr. Niels...|  male|48.0|    0|    0| 7.8542|       S|       0|             50.0|\n",
      "|     2|Maybery, Mr. Fran...|  male|40.0|    0|    0|   16.0|       S|       0|             42.0|\n",
      "|     3|  McCoy, Mr. Bernard|  male|null|    2|    0|  23.25|       Q|       1|             null|\n",
      "|     1|Bowerman, Miss. E...|female|22.0|    0|    1|   55.0|       S|       1|             24.0|\n",
      "|     3|Olsson, Mr. Oscar...|  male|32.0|    0|    0|  7.775|       S|       1|             34.0|\n",
      "+------+--------------------+------+----+-----+-----+-------+--------+--------+-----------------+\n",
      "only showing top 20 rows\n",
      "\n"
     ]
    }
   ],
   "source": [
    "## Filling Missing value using subset\n",
    "# df.na.fill(\"missing value\", 'age').show()\n",
    "df.na.fill(\"missing value\", ['age', 'sex']).show()"
   ]
  },
  {
   "cell_type": "code",
   "execution_count": 60,
   "id": "f6d2f694",
   "metadata": {},
   "outputs": [
    {
     "name": "stdout",
     "output_type": "stream",
     "text": [
      "+------+--------------------+------+----+-----+-----+-------+--------+--------+-----------------+\n",
      "|pclass|                name|   sex| age|sibsp|parch|   fare|embarked|survived|Age after 3 years|\n",
      "+------+--------------------+------+----+-----+-----+-------+--------+--------+-----------------+\n",
      "|     3|  Smyth, Miss. Julia|female|null|    0|    0| 7.7333|       Q|       1|             null|\n",
      "|     3|     Cacic, Mr. Luka|  male|38.0|    0|    0| 8.6625|       S|       0|             40.0|\n",
      "|     3|Van Impe, Mrs. Je...|female|30.0|    1|    1|  24.15|       S|       0|             32.0|\n",
      "|     2|Hocking, Mrs. Eli...|female|54.0|    1|    3|   23.0|       S|       1|             56.0|\n",
      "|     2|     Veal, Mr. James|  male|40.0|    0|    0|   13.0|       S|       0|             42.0|\n",
      "|     3|Olsen, Mr. Henry ...|  male|28.0|    0|    0| 22.525|       S|       0|             30.0|\n",
      "|     3|Johnson, Mr. Will...|  male|19.0|    0|    0|    0.0|       S|       0|             21.0|\n",
      "|     2|Sinkkonen, Miss. ...|female|30.0|    0|    0|   13.0|       S|       1|             32.0|\n",
      "|     3|  Ohman, Miss. Velin|female|22.0|    0|    0|  7.775|       S|       1|             24.0|\n",
      "|     3|Jussila, Miss. Ma...|female|21.0|    1|    0|  9.825|       S|       0|             23.0|\n",
      "|     1|Widener, Mr. Harr...|  male|27.0|    0|    2|  211.5|       C|       0|             29.0|\n",
      "|     1|Bucknell, Mrs. Wi...|female|60.0|    0|    0|76.2917|       C|       1|             62.0|\n",
      "|     1|Potter, Mrs. Thom...|female|56.0|    0|    1|83.1583|       C|       1|             58.0|\n",
      "|     2|\"Hocking, Miss. E...|female|20.0|    2|    1|   23.0|       S|       1|             22.0|\n",
      "|     3|Abbott, Mr. Rossm...|  male|16.0|    1|    1|  20.25|       S|       0|             18.0|\n",
      "|     3|Jensen, Mr. Niels...|  male|48.0|    0|    0| 7.8542|       S|       0|             50.0|\n",
      "|     2|Maybery, Mr. Fran...|  male|40.0|    0|    0|   16.0|       S|       0|             42.0|\n",
      "|     3|  McCoy, Mr. Bernard|  male|null|    2|    0|  23.25|       Q|       1|             null|\n",
      "|     1|Bowerman, Miss. E...|female|22.0|    0|    1|   55.0|       S|       1|             24.0|\n",
      "|     3|Olsson, Mr. Oscar...|  male|32.0|    0|    0|  7.775|       S|       1|             34.0|\n",
      "+------+--------------------+------+----+-----+-----+-------+--------+--------+-----------------+\n",
      "only showing top 20 rows\n",
      "\n"
     ]
    }
   ],
   "source": [
    "df.show()"
   ]
  },
  {
   "cell_type": "code",
   "execution_count": 61,
   "id": "2e2d7369",
   "metadata": {},
   "outputs": [],
   "source": [
    "##Filling null value using Mean (Imputer)\n",
    "from pyspark.ml.feature import Imputer\n",
    "imputer = Imputer(\n",
    "inputCols = ['age'],\n",
    "    outputCols= [\"{}_imputed\".format(c) for c in ['age']]\n",
    ").setStrategy(\"mean\")"
   ]
  },
  {
   "cell_type": "code",
   "execution_count": 67,
   "id": "281392a1",
   "metadata": {},
   "outputs": [],
   "source": [
    "## Median\n",
    "imputer = Imputer(\n",
    "inputCols = ['age'],\n",
    "    outputCols= [\"{}_imputed\".format(c) for c in ['age']]\n",
    ").setStrategy(\"median\")"
   ]
  },
  {
   "cell_type": "code",
   "execution_count": 69,
   "id": "4e16e784",
   "metadata": {},
   "outputs": [],
   "source": [
    "## Mode\n",
    "imputer = Imputer(\n",
    "inputCols = ['age'],\n",
    "    outputCols= [\"{}_imputed\".format(c) for c in ['age']]\n",
    ").setStrategy(\"mode\")"
   ]
  },
  {
   "cell_type": "code",
   "execution_count": 70,
   "id": "6c2983db",
   "metadata": {},
   "outputs": [
    {
     "name": "stdout",
     "output_type": "stream",
     "text": [
      "+------+--------------------+------+----+-----+-----+-------+--------+--------+-----------------+-----------+\n",
      "|pclass|                name|   sex| age|sibsp|parch|   fare|embarked|survived|Age after 3 years|age_imputed|\n",
      "+------+--------------------+------+----+-----+-----+-------+--------+--------+-----------------+-----------+\n",
      "|     3|  Smyth, Miss. Julia|female|null|    0|    0| 7.7333|       Q|       1|             null|       18.0|\n",
      "|     3|     Cacic, Mr. Luka|  male|38.0|    0|    0| 8.6625|       S|       0|             40.0|       38.0|\n",
      "|     3|Van Impe, Mrs. Je...|female|30.0|    1|    1|  24.15|       S|       0|             32.0|       30.0|\n",
      "|     2|Hocking, Mrs. Eli...|female|54.0|    1|    3|   23.0|       S|       1|             56.0|       54.0|\n",
      "|     2|     Veal, Mr. James|  male|40.0|    0|    0|   13.0|       S|       0|             42.0|       40.0|\n",
      "|     3|Olsen, Mr. Henry ...|  male|28.0|    0|    0| 22.525|       S|       0|             30.0|       28.0|\n",
      "|     3|Johnson, Mr. Will...|  male|19.0|    0|    0|    0.0|       S|       0|             21.0|       19.0|\n",
      "|     2|Sinkkonen, Miss. ...|female|30.0|    0|    0|   13.0|       S|       1|             32.0|       30.0|\n",
      "|     3|  Ohman, Miss. Velin|female|22.0|    0|    0|  7.775|       S|       1|             24.0|       22.0|\n",
      "|     3|Jussila, Miss. Ma...|female|21.0|    1|    0|  9.825|       S|       0|             23.0|       21.0|\n",
      "|     1|Widener, Mr. Harr...|  male|27.0|    0|    2|  211.5|       C|       0|             29.0|       27.0|\n",
      "|     1|Bucknell, Mrs. Wi...|female|60.0|    0|    0|76.2917|       C|       1|             62.0|       60.0|\n",
      "|     1|Potter, Mrs. Thom...|female|56.0|    0|    1|83.1583|       C|       1|             58.0|       56.0|\n",
      "|     2|\"Hocking, Miss. E...|female|20.0|    2|    1|   23.0|       S|       1|             22.0|       20.0|\n",
      "|     3|Abbott, Mr. Rossm...|  male|16.0|    1|    1|  20.25|       S|       0|             18.0|       16.0|\n",
      "|     3|Jensen, Mr. Niels...|  male|48.0|    0|    0| 7.8542|       S|       0|             50.0|       48.0|\n",
      "|     2|Maybery, Mr. Fran...|  male|40.0|    0|    0|   16.0|       S|       0|             42.0|       40.0|\n",
      "|     3|  McCoy, Mr. Bernard|  male|null|    2|    0|  23.25|       Q|       1|             null|       18.0|\n",
      "|     1|Bowerman, Miss. E...|female|22.0|    0|    1|   55.0|       S|       1|             24.0|       22.0|\n",
      "|     3|Olsson, Mr. Oscar...|  male|32.0|    0|    0|  7.775|       S|       1|             34.0|       32.0|\n",
      "+------+--------------------+------+----+-----+-----+-------+--------+--------+-----------------+-----------+\n",
      "only showing top 20 rows\n",
      "\n"
     ]
    }
   ],
   "source": [
    "# add imputation cols to df\n",
    "imputer.fit(df).transform(df).show()"
   ]
  },
  {
   "cell_type": "code",
   "execution_count": 65,
   "id": "58932c1b",
   "metadata": {},
   "outputs": [
    {
     "name": "stdout",
     "output_type": "stream",
     "text": [
      "+------+--------------------+------+----+-----+-----+-------+--------+--------+\n",
      "|pclass|                name|   sex| age|sibsp|parch|   fare|embarked|survived|\n",
      "+------+--------------------+------+----+-----+-----+-------+--------+--------+\n",
      "|     3|  Smyth, Miss. Julia|female|null|    0|    0| 7.7333|       Q|       1|\n",
      "|     3|     Cacic, Mr. Luka|  male|38.0|    0|    0| 8.6625|       S|       0|\n",
      "|     3|Van Impe, Mrs. Je...|female|30.0|    1|    1|  24.15|       S|       0|\n",
      "|     2|Hocking, Mrs. Eli...|female|54.0|    1|    3|   23.0|       S|       1|\n",
      "|     2|     Veal, Mr. James|  male|40.0|    0|    0|   13.0|       S|       0|\n",
      "|     3|Olsen, Mr. Henry ...|  male|28.0|    0|    0| 22.525|       S|       0|\n",
      "|     3|Johnson, Mr. Will...|  male|19.0|    0|    0|    0.0|       S|       0|\n",
      "|     2|Sinkkonen, Miss. ...|female|30.0|    0|    0|   13.0|       S|       1|\n",
      "|     3|  Ohman, Miss. Velin|female|22.0|    0|    0|  7.775|       S|       1|\n",
      "|     3|Jussila, Miss. Ma...|female|21.0|    1|    0|  9.825|       S|       0|\n",
      "|     1|Widener, Mr. Harr...|  male|27.0|    0|    2|  211.5|       C|       0|\n",
      "|     1|Bucknell, Mrs. Wi...|female|60.0|    0|    0|76.2917|       C|       1|\n",
      "|     1|Potter, Mrs. Thom...|female|56.0|    0|    1|83.1583|       C|       1|\n",
      "|     2|\"Hocking, Miss. E...|female|20.0|    2|    1|   23.0|       S|       1|\n",
      "|     3|Abbott, Mr. Rossm...|  male|16.0|    1|    1|  20.25|       S|       0|\n",
      "|     3|Jensen, Mr. Niels...|  male|48.0|    0|    0| 7.8542|       S|       0|\n",
      "|     2|Maybery, Mr. Fran...|  male|40.0|    0|    0|   16.0|       S|       0|\n",
      "|     3|  McCoy, Mr. Bernard|  male|null|    2|    0|  23.25|       Q|       1|\n",
      "|     1|Bowerman, Miss. E...|female|22.0|    0|    1|   55.0|       S|       1|\n",
      "|     3|Olsson, Mr. Oscar...|  male|32.0|    0|    0|  7.775|       S|       1|\n",
      "+------+--------------------+------+----+-----+-----+-------+--------+--------+\n",
      "only showing top 20 rows\n",
      "\n"
     ]
    }
   ],
   "source": [
    "#droping column [Age after 3 years]\n",
    "df.drop(\"Age after 3 years\").show()"
   ]
  },
  {
   "cell_type": "code",
   "execution_count": null,
   "id": "0abfd562",
   "metadata": {},
   "outputs": [],
   "source": []
  }
 ],
 "metadata": {
  "kernelspec": {
   "display_name": "Python 3 (ipykernel)",
   "language": "python",
   "name": "python3"
  },
  "language_info": {
   "codemirror_mode": {
    "name": "ipython",
    "version": 3
   },
   "file_extension": ".py",
   "mimetype": "text/x-python",
   "name": "python",
   "nbconvert_exporter": "python",
   "pygments_lexer": "ipython3",
   "version": "3.10.9"
  }
 },
 "nbformat": 4,
 "nbformat_minor": 5
}
